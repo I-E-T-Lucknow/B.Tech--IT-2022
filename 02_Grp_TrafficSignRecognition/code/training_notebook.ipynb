{
  "cells": [
    {
      "cell_type": "code",
      "execution_count": 3,
      "metadata": {
        "colab": {
          "base_uri": "https://localhost:8080/"
        },
        "id": "qEEYt7hft24d",
        "outputId": "279696a6-b894-4fef-cee2-beeda2666370"
      },
      "outputs": [],
      "source": [
        "import numpy as np                               \n",
        "import pandas as pd                        \n",
        "import matplotlib.pyplot as plt                  \n",
        "import cv2             \n",
        "import tensorflow as tf                          \n",
        "from PIL import Image                           \n",
        "import os                                        \n"
      ]
    },
    {
      "cell_type": "code",
      "execution_count": 5,
      "metadata": {},
      "outputs": [],
      "source": [
        "from sklearn.model_selection import train_test_split\n",
        "#from keras.utils import to_categorical          \n",
        "from keras.models import Sequential, load_model\n",
        "from keras.layers import Conv2D, MaxPool2D, Dense, Flatten, Dropout\n"
      ]
    },
    {
      "cell_type": "code",
      "execution_count": 6,
      "metadata": {},
      "outputs": [
        {
          "name": "stdout",
          "output_type": "stream",
          "text": [
            "Collecting tqdm\n",
            "  Downloading tqdm-4.64.0-py2.py3-none-any.whl (78 kB)\n",
            "     ---------------------------------------- 78.4/78.4 kB 1.1 MB/s eta 0:00:00\n",
            "Requirement already satisfied: colorama in c:\\users\\ajeet\\appdata\\local\\programs\\python\\python310\\lib\\site-packages (from tqdm) (0.4.4)\n",
            "Installing collected packages: tqdm\n",
            "Successfully installed tqdm-4.64.0\n"
          ]
        },
        {
          "name": "stderr",
          "output_type": "stream",
          "text": [
            "WARNING: There was an error checking the latest version of pip.\n"
          ]
        }
      ],
      "source": [
        "!pip install tqdm"
      ]
    },
    {
      "cell_type": "code",
      "execution_count": 7,
      "metadata": {},
      "outputs": [],
      "source": [
        "import tqdm                                    \n",
        "import warnings"
      ]
    },
    {
      "cell_type": "code",
      "execution_count": 10,
      "metadata": {},
      "outputs": [
        {
          "data": {
            "text/plain": [
              "'c:\\\\Users\\\\ajeet\\\\Desktop\\\\Vivek pr\\\\archive'"
            ]
          },
          "execution_count": 10,
          "metadata": {},
          "output_type": "execute_result"
        }
      ],
      "source": [
        "os.getcwd()"
      ]
    },
    {
      "cell_type": "code",
      "execution_count": 11,
      "metadata": {
        "colab": {
          "base_uri": "https://localhost:8080/"
        },
        "id": "eaNYlsv7t4n5",
        "outputId": "cfad2609-dd9b-4943-8686-15fdcf0863d4"
      },
      "outputs": [
        {
          "name": "stdout",
          "output_type": "stream",
          "text": [
            "(39209, 30, 30, 3) (39209,)\n"
          ]
        }
      ],
      "source": [
        "data = []\n",
        "labels = []\n",
        "classes = 43\n",
        "\n",
        "for i in range(classes):\n",
        "    path = os.path.join(os.getcwd(),'train',str(i))\n",
        "    images = os.listdir(path)\n",
        "    \n",
        "    for j in images:\n",
        "        try:\n",
        "            image = Image.open(path + '\\\\'+ j)\n",
        "            image = image.resize((30,30))\n",
        "            image = np.array(image)\n",
        "            data.append(image)\n",
        "            labels.append(i)\n",
        "        except:\n",
        "            print(\"Error loading image\")\n",
        "#Converting lists into numpy arrays bcoz its faster and takes lesser #memory\n",
        "data = np.array(data)\n",
        "labels = np.array(labels)\n",
        "print(data.shape, labels.shape)"
      ]
    },
    {
      "cell_type": "code",
      "execution_count": 12,
      "metadata": {},
      "outputs": [
        {
          "name": "stdout",
          "output_type": "stream",
          "text": [
            "(31367, 30, 30, 3) (7842, 30, 30, 3) (31367,) (7842,)\n"
          ]
        }
      ],
      "source": [
        "X_train, X_test, y_train, y_test = train_test_split(data, labels, test_size=0.2, random_state=68)\n",
        "\n",
        "print(X_train.shape, X_test.shape, y_train.shape, y_test.shape)"
      ]
    },
    {
      "cell_type": "code",
      "execution_count": 20,
      "metadata": {},
      "outputs": [],
      "source": [
        "model = Sequential()\n",
        "model.add(Conv2D(filters=32, kernel_size=(5,5), activation='relu', input_shape=X_train.shape[1:]))\n",
        "model.add(Conv2D(filters=32, kernel_size=(5,5), activation='relu'))\n",
        "model.add(MaxPool2D(pool_size=(2, 2)))\n",
        "model.add(Dropout(rate=0.25))\n",
        "model.add(Conv2D(filters=64, kernel_size=(3, 3), activation='relu'))\n",
        "model.add(Conv2D(filters=64, kernel_size=(3, 3), activation='relu'))\n",
        "model.add(MaxPool2D(pool_size=(2, 2)))\n",
        "model.add(Dropout(rate=0.25))\n",
        "model.add(Flatten())\n",
        "model.add(Dense(256, activation='relu'))\n",
        "model.add(Dropout(rate=0.5))\n",
        "model.add(Dense(43, activation='softmax'))"
      ]
    },
    {
      "cell_type": "code",
      "execution_count": 34,
      "metadata": {},
      "outputs": [],
      "source": [
        "model.compile(loss='sparse_categorical_crossentropy', optimizer='adam', metrics=['accuracy'])"
      ]
    },
    {
      "cell_type": "code",
      "execution_count": 35,
      "metadata": {},
      "outputs": [
        {
          "name": "stdout",
          "output_type": "stream",
          "text": [
            "Epoch 1/2\n",
            "981/981 [==============================] - 65s 66ms/step - loss: 0.5356 - accuracy: 0.8415 - val_loss: 0.1380 - val_accuracy: 0.9635\n",
            "Epoch 2/2\n",
            "981/981 [==============================] - 68s 69ms/step - loss: 0.3386 - accuracy: 0.9038 - val_loss: 0.1422 - val_accuracy: 0.9610\n"
          ]
        }
      ],
      "source": [
        "history = model.fit(X_train, y_train, batch_size=32, epochs=2, validation_data=(X_test, y_test))"
      ]
    },
    {
      "cell_type": "code",
      "execution_count": 36,
      "metadata": {},
      "outputs": [
        {
          "data": {
            "image/png": "[encoded data removed]",
            "text/plain": [
              "<Figure size 432x288 with 1 Axes>"
            ]
          },
          "metadata": {
            "needs_background": "light"
          },
          "output_type": "display_data"
        }
      ],
      "source": [
        "model.save(\"Trafic_signs_model.h5\")\n",
        "#plotting graphs for accuracy \n",
        "plt.figure(0)\n",
        "plt.plot(history.history['accuracy'], label='training accuracy')\n",
        "plt.plot(history.history['val_accuracy'], label='val accuracy')\n",
        "plt.title('Accuracy')\n",
        "plt.xlabel('epochs')\n",
        "plt.ylabel('accuracy')\n",
        "plt.legend()\n",
        "plt.show()"
      ]
    },
    {
      "cell_type": "code",
      "execution_count": 37,
      "metadata": {},
      "outputs": [
        {
          "data": {
            "image/png": "[encoded data removed]",
            "text/plain": [
              "<Figure size 432x288 with 1 Axes>"
            ]
          },
          "metadata": {
            "needs_background": "light"
          },
          "output_type": "display_data"
        }
      ],
      "source": [
        "plt.figure(1)\n",
        "plt.plot(history.history['loss'], label='training loss')\n",
        "plt.plot(history.history['val_loss'], label='val loss')\n",
        "plt.title('Loss')\n",
        "plt.xlabel('epochs')\n",
        "plt.ylabel('loss')\n",
        "plt.legend()\n",
        "plt.show()"
      ]
    },
    {
      "cell_type": "code",
      "execution_count": 38,
      "metadata": {},
      "outputs": [
        {
          "ename": "AttributeError",
          "evalue": "'Sequential' object has no attribute 'predict_classes'",
          "output_type": "error",
          "traceback": [
            "\u001b[1;31m---------------------------------------------------------------------------\u001b[0m",
            "\u001b[1;31mAttributeError\u001b[0m                            Traceback (most recent call last)",
            "\u001b[1;32mc:\\Users\\ajeet\\Desktop\\Vivek pr\\archive\\keras_testing_recognition.ipynb Cell 13'\u001b[0m in \u001b[0;36m<cell line: 16>\u001b[1;34m()\u001b[0m\n\u001b[0;32m     <a href='vscode-notebook-cell:/c%3A/Users/ajeet/Desktop/Vivek%20pr/archive/keras_testing_recognition.ipynb#ch0000049?line=11'>12</a>\u001b[0m     data\u001b[39m.\u001b[39mappend(np\u001b[39m.\u001b[39marray(image))\n\u001b[0;32m     <a href='vscode-notebook-cell:/c%3A/Users/ajeet/Desktop/Vivek%20pr/archive/keras_testing_recognition.ipynb#ch0000049?line=13'>14</a>\u001b[0m X_test\u001b[39m=\u001b[39mnp\u001b[39m.\u001b[39marray(data)\n\u001b[1;32m---> <a href='vscode-notebook-cell:/c%3A/Users/ajeet/Desktop/Vivek%20pr/archive/keras_testing_recognition.ipynb#ch0000049?line=15'>16</a>\u001b[0m pred \u001b[39m=\u001b[39m model\u001b[39m.\u001b[39;49mpredict_classes(X_test)\n\u001b[0;32m     <a href='vscode-notebook-cell:/c%3A/Users/ajeet/Desktop/Vivek%20pr/archive/keras_testing_recognition.ipynb#ch0000049?line=16'>17</a>\u001b[0m \u001b[39m#Accuracy with the test data\u001b[39;00m\n\u001b[0;32m     <a href='vscode-notebook-cell:/c%3A/Users/ajeet/Desktop/Vivek%20pr/archive/keras_testing_recognition.ipynb#ch0000049?line=17'>18</a>\u001b[0m \u001b[39mprint\u001b[39m(accuracy_score(labels, pred))\n",
            "\u001b[1;31mAttributeError\u001b[0m: 'Sequential' object has no attribute 'predict_classes'"
          ]
        }
      ],
      "source": [
        "from sklearn.metrics import accuracy_score\n",
        "y_test = pd.read_csv('Test.csv')\n",
        "\n",
        "labels = y_test[\"ClassId\"].values\n",
        "imgs = y_test[\"Path\"].values\n",
        "\n",
        "data=[]\n",
        "\n",
        "for img in imgs:\n",
        "    image = Image.open(img)\n",
        "    image = image.resize((30,30))\n",
        "    data.append(np.array(image))\n",
        "\n",
        "X_test=np.array(data)\n",
        "\n",
        "pred = model.predict_classes(X_test)\n",
        "#Accuracy with the test data\n",
        "print(accuracy_score(labels, pred))"
      ]
    },
    {
      "cell_type": "code",
      "execution_count": 4,
      "metadata": {},
      "outputs": [],
      "source": [
        "import tkinter as tk\n",
        "from tkinter import filedialog\n",
        "from tkinter import *\n",
        "from PIL import ImageTk, Image\n",
        "\n",
        "import numpy\n",
        "\n",
        "from keras.models import load_model\n",
        "import warnings\n",
        "window = Tk()\n",
        "\n",
        "model = load_model('Trafic_signs_model.h5')\n",
        "warnings.filterwarnings(\"ignore\", category=DeprecationWarning)\n",
        "\n",
        "#dictionary to label all traffic signs class.\n",
        "classes = { 1:'Speed limit (20km/h)',\n",
        "            2:'Speed limit (30km/h)',      \n",
        "            3:'Speed limit (50km/h)',       \n",
        "            4:'Speed limit (60km/h)',      \n",
        "            5:'Speed limit (70km/h)',    \n",
        "            6:'Speed limit (80km/h)',      \n",
        "            7:'End of speed limit (80km/h)',     \n",
        "            8:'Speed limit (100km/h)',    \n",
        "            9:'Speed limit (120km/h)',     \n",
        "           10:'No passing',   \n",
        "           11:'No passing veh over 3.5 tons',     \n",
        "           12:'Right-of-way at intersection',     \n",
        "           13:'Priority road',    \n",
        "           14:'Yield',     \n",
        "           15:'Stop',       \n",
        "           16:'No vehicles',       \n",
        "           17:'Veh > 3.5 tons prohibited',       \n",
        "           18:'No entry',       \n",
        "           19:'General caution',     \n",
        "           20:'Dangerous curve left',      \n",
        "           21:'Dangerous curve right',   \n",
        "           22:'Double curve',      \n",
        "           23:'Bumpy road',     \n",
        "           24:'Slippery road',       \n",
        "           25:'Road narrows on the right',  \n",
        "           26:'Road work',    \n",
        "           27:'Traffic signals',      \n",
        "           28:'Pedestrians',     \n",
        "           29:'Children crossing',     \n",
        "           30:'Bicycles crossing',       \n",
        "           31:'Beware of ice/snow',\n",
        "           32:'Wild animals crossing',      \n",
        "           33:'End speed + passing limits',      \n",
        "           34:'Turn right ahead',     \n",
        "           35:'Turn left ahead',       \n",
        "           36:'Ahead only',      \n",
        "           37:'Go straight or right',      \n",
        "           38:'Go straight or left',      \n",
        "           39:'Keep right',     \n",
        "           40:'Keep left',      \n",
        "           41:'Roundabout mandatory',     \n",
        "           42:'End of no passing',      \n",
        "           43:'End no passing veh > 3.5 tons' }\n",
        "           \n",
        "window.geometry('600x500')\n",
        "window.title('Traffic sign classifier')\n",
        "\n",
        "window.configure(background='#1e3e64')\n",
        "\n",
        "heading = Label(window, text=\"Traffic Sign Classifier\",padx=220, font=('Verdana',20,'bold'))\n",
        "heading.configure(background='#143953',foreground='white')\n",
        "heading.pack()\n",
        "\n",
        "sign = Label(window)\n",
        "sign.configure(background='#1e3e64')\n",
        "\n",
        "value = Label(window,font=('Helvetica',15,'bold'))\n",
        "value.configure(background='#1e3e64')\n",
        "\n",
        "def classify(file_path):\n",
        "    global label_packed\n",
        "    image = Image.open(file_path)\n",
        "    image = image.resize((30,30))\n",
        "    image = numpy.expand_dims(image, axis=0)\n",
        "    image = numpy.array(image)\n",
        "    #print(image.shape)\n",
        "    pred = model.predict(image)\n",
        "    pred1 =pred\n",
        "    pred1 = numpy.max(pred)\n",
        "    \n",
        "    pred = numpy.argmax(pred)\n",
        "    print(pred)\n",
        "    sign = classes[pred+1]\n",
        "    #sign = classes[pred+1]\n",
        "    print(sign)\n",
        "    value.configure(foreground='#ffffff', text=sign)\n",
        "\n",
        "def show_cb(file_path):\n",
        "    classify_b=Button(window,text=\"Classify Image\",command=lambda: classify(file_path),padx=20,pady=5)\n",
        "    classify_b.configure(background='#147a81', foreground='white',font=('arial',10,'bold'))\n",
        "    classify_b.place(relx=0.6,rely=0.80)\n",
        "    \n",
        "def uploader():\n",
        "    try:\n",
        "        file_path = filedialog.askopenfilename()\n",
        "        uploaded = Image.open(file_path)\n",
        "        uploaded.thumbnail(((window.winfo_width()/2.25),(window.winfo_height()/2.25)))\n",
        "        im = ImageTk.PhotoImage(uploaded)\n",
        "        \n",
        "        sign.configure(image=im)\n",
        "        sign.image=im\n",
        "        value.configure(text='')\n",
        "        show_cb(file_path)\n",
        "    except:\n",
        "        pass\n",
        "\n",
        "upload = Button(window,text=\"Upload an image\",command=uploader,padx=10,pady=5)\n",
        "upload.configure(background='#e8d08e', foreground='#143953',font=('arial',10,'bold'))\n",
        "upload.pack()\n",
        "upload.place(x=100, y=400)\n",
        "\n",
        "sign.pack()\n",
        "sign.place(x=230,y=100)\n",
        "value.pack()\n",
        "value.place(x=240,y=300)\n",
        "\n",
        "window.mainloop()    "
      ]
    },
    {
      "cell_type": "code",
      "execution_count": null,
      "metadata": {
        "id": "5caAqajruj6C"
      },
      "outputs": [],
      "source": [
        "from numpy import load"
      ]
    },
    {
      "cell_type": "code",
      "execution_count": null,
      "metadata": {
        "id": "bF7QVrtVuVbd"
      },
      "outputs": [],
      "source": [
        "\n",
        "data = load('faces-dataset_v654train.npz')"
      ]
    },
    {
      "cell_type": "code",
      "execution_count": null,
      "metadata": {
        "id": "lUAvsiKOuims"
      },
      "outputs": [],
      "source": [
        "trainx, trainy = data['arr_0'], data['arr_1']"
      ]
    },
    {
      "cell_type": "code",
      "execution_count": null,
      "metadata": {
        "id": "dUtpOwLzs8qV"
      },
      "outputs": [],
      "source": [
        "\n",
        "data1 = load('faces-dataset_v2val.npz')\n",
        "testx, testy = data1['arr_0'], data1['arr_1']"
      ]
    },
    {
      "cell_type": "code",
      "execution_count": null,
      "metadata": {
        "id": "mD8jS2fTXeYn"
      },
      "outputs": [],
      "source": [
        "#trainx, testx, trainy, testy = train_test_split(trainx, trainy, test_size=0.3, random_state=10)"
      ]
    },
    {
      "cell_type": "code",
      "execution_count": null,
      "metadata": {
        "colab": {
          "base_uri": "https://localhost:8080/"
        },
        "id": "LAVgIsFWuqiE",
        "outputId": "5ea551ff-4bcf-44b6-db24-3da7dfd54f40"
      },
      "outputs": [
        {
          "name": "stdout",
          "output_type": "stream",
          "text": [
            "Training Dataset Shape: ­(3337, 224, 224, 3)\n",
            "No. of Training Dataset Labels: 3337\n"
          ]
        }
      ],
      "source": [
        "print('Training Dataset Shape: ­{}'.format(trainx.shape))\n",
        "print('No. of Training Dataset Labels: {}'.format(len(trainy)))"
      ]
    },
    {
      "cell_type": "code",
      "execution_count": null,
      "metadata": {
        "colab": {
          "base_uri": "https://localhost:8080/"
        },
        "id": "RW4z7lhxvXyZ",
        "outputId": "b953a600-35f5-4224-b276-0d60f7e13d5d"
      },
      "outputs": [
        {
          "name": "stdout",
          "output_type": "stream",
          "text": [
            "Validation Dataset Shape: ­(1100, 224, 224, 3)\n",
            "No. of Validation Dataset Labels: 1100\n"
          ]
        }
      ],
      "source": [
        "print('Validation Dataset Shape: ­{}'.format(testx.shape))\n",
        "print('No. of Validation Dataset Labels: {}'.format(len(testy)))"
      ]
    },
    {
      "cell_type": "code",
      "execution_count": null,
      "metadata": {
        "colab": {
          "base_uri": "https://localhost:8080/"
        },
        "id": "NS99dnYFuwxy",
        "outputId": "b54e8699-c2c4-49fe-9ab9-91255d142d78"
      },
      "outputs": [
        {
          "name": "stdout",
          "output_type": "stream",
          "text": [
            "Training Dataset Shape: ­(3337, 224, 224, 3)\n",
            "No. of Training Dataset Labels: 3337\n"
          ]
        }
      ],
      "source": [
        "\n",
        "\n",
        "\n",
        "training_images= trainx/255.0\n",
        "\n",
        "training_images = trainx.reshape((3337,224,224,3))\n",
        "\n",
        "print('Training Dataset Shape: ­{}'.format(trainx.shape))\n",
        "print('No. of Training Dataset Labels: {}'.format(len(trainy)))\n"
      ]
    },
    {
      "cell_type": "code",
      "execution_count": null,
      "metadata": {
        "colab": {
          "base_uri": "https://localhost:8080/"
        },
        "id": "x640YcL8ulrW",
        "outputId": "798ce489-2cb4-4571-eec8-7c776a0a20f7"
      },
      "outputs": [
        {
          "name": "stdout",
          "output_type": "stream",
          "text": [
            "Test Dataset Shape: (1100, 224, 224, 3)\n",
            "No. of Test Dataset Labels: 1100\n"
          ]
        }
      ],
      "source": [
        "test_images=testx/255.0\n",
        "valy=testy\n",
        "valx = testx.reshape((1100,224,224,3)) \n",
        "print('Test Dataset Shape: {}'.format(valx.shape))\n",
        "print('No. of Test Dataset Labels: {}'.format(len(valy)))"
      ]
    },
    {
      "cell_type": "code",
      "execution_count": null,
      "metadata": {
        "id": "-vz9l33mwGsW"
      },
      "outputs": [],
      "source": [
        "import os\n",
        "import numpy as np\n",
        "import scipy.io\n",
        "import cv2\n",
        "from tensorflow.keras.utils import to_categorical"
      ]
    },
    {
      "cell_type": "code",
      "execution_count": null,
      "metadata": {
        "id": "VvQVLK9qxPEN"
      },
      "outputs": [],
      "source": [
        "for i in range(0,3337):\n",
        "  if (trainy[i]=='AJEET'):\n",
        "    trainy[i]=0\n",
        "  if (trainy[i]=='MANEESH'):\n",
        "    trainy[i]=1\n",
        "  if (trainy[i]=='PRANJAL'):\n",
        "    trainy[i]=2\n",
        "  if (trainy[i]=='PRASHANT'):\n",
        "    trainy[i]=3\n",
        "  if (trainy[i]=='RAJ'):\n",
        "    trainy[i]=4\n",
        "  "
      ]
    },
    {
      "cell_type": "code",
      "execution_count": null,
      "metadata": {
        "colab": {
          "base_uri": "https://localhost:8080/",
          "height": 36
        },
        "id": "IHcQQNdWBAqC",
        "outputId": "6981c312-8bf7-4215-88c5-19260e568fc7"
      },
      "outputs": [
        {
          "data": {
            "application/vnd.google.colaboratory.intrinsic+json": {
              "type": "string"
            },
            "text/plain": [
              "'0'"
            ]
          },
          "execution_count": 13,
          "metadata": {},
          "output_type": "execute_result"
        }
      ],
      "source": [
        "\n",
        "trainy[90]"
      ]
    },
    {
      "cell_type": "code",
      "execution_count": null,
      "metadata": {
        "id": "R4IZvc2a1FLS"
      },
      "outputs": [],
      "source": [
        "for i in range(0,1100):\n",
        "  if (valy[i]=='AJEET'):\n",
        "    valy[i]=0\n",
        "  if (valy[i]=='MANEESH'):\n",
        "    valy[i]=1\n",
        "  if (valy[i]=='PRANJAL'):\n",
        "    valy[i]=2\n",
        "  if (valy[i]=='PRASHANT'):\n",
        "    valy[i]=3\n",
        "  if (valy[i]=='RAJ'):\n",
        "    valy[i]=4\n",
        "  "
      ]
    },
    {
      "cell_type": "code",
      "execution_count": null,
      "metadata": {
        "colab": {
          "base_uri": "https://localhost:8080/"
        },
        "id": "r-7YNcz4yCcT",
        "outputId": "84a2058b-9a7b-46d5-c9cf-e7270230e160"
      },
      "outputs": [
        {
          "data": {
            "text/plain": [
              "1"
            ]
          },
          "execution_count": 15,
          "metadata": {},
          "output_type": "execute_result"
        }
      ],
      "source": [
        "len(valy[0])"
      ]
    },
    {
      "cell_type": "code",
      "execution_count": null,
      "metadata": {
        "id": "YZ2prk2tvwtj"
      },
      "outputs": [],
      "source": [
        "trainy = to_categorical(trainy)\n",
        "valy = to_categorical(valy)"
      ]
    },
    {
      "cell_type": "code",
      "execution_count": null,
      "metadata": {
        "colab": {
          "base_uri": "https://localhost:8080/",
          "height": 286
        },
        "id": "fcgjTAcTwr1S",
        "outputId": "1f6941af-a93c-45c4-8b49-7c79ba9f8718"
      },
      "outputs": [
        {
          "name": "stdout",
          "output_type": "stream",
          "text": [
            "[0. 0. 0. 0. 1.]\n"
          ]
        },
        {
          "data": {
            "image/png": "[encoded data removed]",
            "text/plain": [
              "<Figure size 432x288 with 1 Axes>"
            ]
          },
          "metadata": {
            "needs_background": "light"
          },
          "output_type": "display_data"
        }
      ],
      "source": [
        "import matplotlib.pyplot as plt\n",
        "plt.imshow(training_images[3200])\n",
        "print(trainy[3200])"
      ]
    },
    {
      "cell_type": "code",
      "execution_count": null,
      "metadata": {
        "colab": {
          "base_uri": "https://localhost:8080/"
        },
        "id": "NOR6_N0s-qhJ",
        "outputId": "99178075-8f63-4569-f4f2-020f30c54b78"
      },
      "outputs": [
        {
          "data": {
            "text/plain": [
              "(3337, 5)"
            ]
          },
          "execution_count": 18,
          "metadata": {},
          "output_type": "execute_result"
        }
      ],
      "source": [
        "trainy.shape"
      ]
    },
    {
      "cell_type": "code",
      "execution_count": null,
      "metadata": {
        "id": "-W0bHfbXztoH"
      },
      "outputs": [],
      "source": [
        " \n",
        "from keras.layers import Dense, Conv2D, Flatten, MaxPooling2D, Dropout\n",
        "from keras.models import Sequential\n",
        "from tensorflow.keras import layers\n",
        "from tensorflow.keras import regularizers\n",
        "model = Sequential()\n",
        " \n",
        "#add model layers\n",
        " \n",
        " \n",
        "# #Layer 1\n",
        "model.add(Conv2D(64, kernel_size=3, strides=(2, 2), activation='relu', input_shape=(224, 224, 3)))\n",
        "model.add(Conv2D(64, kernel_size=3, activation='relu'))\n",
        "model.add(MaxPooling2D((2,2)))\n",
        " \n",
        "# #Layer 2\n",
        "model.add(Conv2D(128, kernel_size=3, activation='relu'))\n",
        "model.add(Conv2D(128, kernel_size=3, activation='relu'))\n",
        "model.add(MaxPooling2D((2,2)))\n",
        "\n",
        "# #Layer 3\n",
        "model.add(Conv2D(256, kernel_size=3, activation='relu'))\n",
        "model.add(Conv2D(256, kernel_size=3, activation='relu'))\n",
        "model.add(Conv2D(256, kernel_size=3, activation='relu'))\n",
        "model.add(MaxPooling2D((2,2)))\n",
        " \n",
        "\n",
        "# #Layer 4\n",
        "model.add(Conv2D(512, kernel_size=3, activation='relu'))\n",
        "#model.add(Conv2D(512, kernel_size=3, activation='relu'))\n",
        "#model.add(Conv2D(512, kernel_size=3, activation='relu'))\n",
        "model.add(MaxPooling2D((2,2)))\n",
        "\n",
        "# #Layer 5\n",
        "#model.add(Conv2D(512, kernel_size=3, activation='relu'))\n",
        "#model.add(Conv2D(512, kernel_size=3, activation='relu'))\n",
        "#model.add(Conv2D(512, kernel_size=3, activation='relu'))\n",
        "model.add(MaxPooling2D((2,2)))\n",
        "\n",
        "# #Input to Neural Network is flattened\n",
        "model.add(Flatten())\n",
        "\n",
        "# #1st hidden layer with 512 neurons/nodes\n",
        "#model.add(Dense(36, activation='relu'))\n",
        "model.add(Dense(512, activation='relu'))\n",
        "model.add(Dropout(0.4))\n",
        "model.add(Dense(256, activation='relu'))\n",
        "model.add(Dropout(0.5))\n",
        "# #Output layer with 102 nodes for classifying 102 flowers\n",
        "model.add(Dense(5, activation='softmax'))\n",
        " \n",
        " \n",
        "\n",
        " \n"
      ]
    },
    {
      "cell_type": "code",
      "execution_count": null,
      "metadata": {
        "colab": {
          "base_uri": "https://localhost:8080/"
        },
        "id": "gCmejHGeghMm",
        "outputId": "7ed19934-8b56-4397-e28e-91b9108d47d3"
      },
      "outputs": [
        {
          "name": "stdout",
          "output_type": "stream",
          "text": [
            "Model: \"sequential_2\"\n",
            "_________________________________________________________________\n",
            " Layer (type)                Output Shape              Param #   \n",
            "=================================================================\n",
            " conv2d_23 (Conv2D)          (None, 111, 111, 64)      1792      \n",
            "                                                                 \n",
            " conv2d_24 (Conv2D)          (None, 109, 109, 64)      36928     \n",
            "                                                                 \n",
            " max_pooling2d_9 (MaxPooling  (None, 54, 54, 64)       0         \n",
            " 2D)                                                             \n",
            "                                                                 \n",
            " conv2d_25 (Conv2D)          (None, 52, 52, 128)       73856     \n",
            "                                                                 \n",
            " conv2d_26 (Conv2D)          (None, 50, 50, 128)       147584    \n",
            "                                                                 \n",
            " max_pooling2d_10 (MaxPoolin  (None, 25, 25, 128)      0         \n",
            " g2D)                                                            \n",
            "                                                                 \n",
            " conv2d_27 (Conv2D)          (None, 23, 23, 256)       295168    \n",
            "                                                                 \n",
            " conv2d_28 (Conv2D)          (None, 21, 21, 256)       590080    \n",
            "                                                                 \n",
            " conv2d_29 (Conv2D)          (None, 19, 19, 256)       590080    \n",
            "                                                                 \n",
            " max_pooling2d_11 (MaxPoolin  (None, 9, 9, 256)        0         \n",
            " g2D)                                                            \n",
            "                                                                 \n",
            " conv2d_30 (Conv2D)          (None, 7, 7, 512)         1180160   \n",
            "                                                                 \n",
            " max_pooling2d_12 (MaxPoolin  (None, 3, 3, 512)        0         \n",
            " g2D)                                                            \n",
            "                                                                 \n",
            " flatten_2 (Flatten)         (None, 4608)              0         \n",
            "                                                                 \n",
            " dense_6 (Dense)             (None, 512)               2359808   \n",
            "                                                                 \n",
            " dropout_4 (Dropout)         (None, 512)               0         \n",
            "                                                                 \n",
            " dense_7 (Dense)             (None, 256)               131328    \n",
            "                                                                 \n",
            " dropout_5 (Dropout)         (None, 256)               0         \n",
            "                                                                 \n",
            " dense_8 (Dense)             (None, 5)                 1285      \n",
            "                                                                 \n",
            "=================================================================\n",
            "Total params: 5,408,069\n",
            "Trainable params: 5,408,069\n",
            "Non-trainable params: 0\n",
            "_________________________________________________________________\n"
          ]
        }
      ],
      "source": [
        "#Compile the neural network\n",
        "model.compile(optimizer=\"adam\", loss=\"categorical_crossentropy\", metrics=[\"accuracy\"])\n",
        "model.summary()"
      ]
    },
    {
      "cell_type": "code",
      "execution_count": null,
      "metadata": {
        "colab": {
          "base_uri": "https://localhost:8080/"
        },
        "id": "rKtb1ujHggQA",
        "outputId": "2015c720-e7fe-4579-c459-56254b8b2320"
      },
      "outputs": [
        {
          "name": "stdout",
          "output_type": "stream",
          "text": [
            "Epoch 1/10\n",
            " 78/105 [=====================>........] - ETA: 3:11 - loss: 1.4034 - accuracy: 0.4183"
          ]
        }
      ],
      "source": [
        "#Train the network\n",
        "model.fit(trainx, trainy, validation_data = (valx, valy), epochs=10, batch_size=32)     #  "
      ]
    },
    {
      "cell_type": "code",
      "execution_count": null,
      "metadata": {
        "colab": {
          "base_uri": "https://localhost:8080/"
        },
        "id": "5-mK-FtL0VPJ",
        "outputId": "88162014-0fe1-4f4a-87cd-c3dc2dd03a32"
      },
      "outputs": [
        {
          "name": "stdout",
          "output_type": "stream",
          "text": [
            "model saved\n"
          ]
        }
      ],
      "source": [
        " model.save('cnn_layer100.h5')\n",
        "print('model saved')"
      ]
    },
    {
      "cell_type": "code",
      "execution_count": null,
      "metadata": {
        "colab": {
          "base_uri": "https://localhost:8080/"
        },
        "id": "a5SxOgyiCfg1",
        "outputId": "ee356971-d20d-4eb1-a532-4839374a3173"
      },
      "outputs": [
        {
          "name": "stdout",
          "output_type": "stream",
          "text": [
            "39/39 [==============================] - 2s 33ms/step - loss: 0.0208 - accuracy: 0.9959\n",
            "Test loss: 0.02078174240887165\n",
            "Test accuracy: 0.9959316253662109\n",
            "Predicted labels: [0 1 0 1]\n",
            "Actual Labels:    [0 1 0 1]\n"
          ]
        }
      ],
      "source": [
        "from keras.models import load_model\n",
        "model = load_model(\"cnn_layer1.h5\")\n",
        " \n",
        "score = model.evaluate(valx, valy)\n",
        " \n",
        "print('Test loss:', score[0]) \n",
        "print('Test accuracy:', score[1])\n",
        " \n",
        "\n",
        "pred = model.predict(valx) \n",
        "pred = np.argmax(pred, axis = 1)[:4]\n",
        "label = np.argmax(valy,axis = 1)[:4]\n",
        " \n",
        "print(\"Predicted labels:\",pred) \n",
        "print(\"Actual Labels:   \",label)"
      ]
    },
    {
      "cell_type": "code",
      "execution_count": null,
      "metadata": {
        "colab": {
          "base_uri": "https://localhost:8080/"
        },
        "id": "ZZ25Ob4IHhm5",
        "outputId": "93e189e2-3687-426c-b0d2-124372bf9813"
      },
      "outputs": [
        {
          "data": {
            "text/plain": [
              "(1229, 224, 224, 3)"
            ]
          },
          "execution_count": 43,
          "metadata": {},
          "output_type": "execute_result"
        }
      ],
      "source": [
        "valx.shape"
      ]
    },
    {
      "cell_type": "code",
      "execution_count": null,
      "metadata": {
        "id": "G8yFZ198QEL0"
      },
      "outputs": [],
      "source": [
        "pred = model.predict(valx) "
      ]
    },
    {
      "cell_type": "code",
      "execution_count": null,
      "metadata": {
        "id": "Tf0z7HBGCkU1"
      },
      "outputs": [],
      "source": [
        "\n",
        "valx = valx[:1] \n",
        "\n",
        "#Predict output on sample input data\n",
        "pred = model.predict(valx) \n",
        "\n"
      ]
    },
    {
      "cell_type": "code",
      "execution_count": null,
      "metadata": {
        "colab": {
          "base_uri": "https://localhost:8080/"
        },
        "id": "PBJSsaG3EZDK",
        "outputId": "9a79a40a-9292-4117-fe65-52804f79585e"
      },
      "outputs": [
        {
          "data": {
            "text/plain": [
              "array([[1.0000000e+00, 4.2941234e-25, 6.4665981e-29, 1.9938010e-33,\n",
              "        1.0453700e-26]], dtype=float32)"
            ]
          },
          "execution_count": 46,
          "metadata": {},
          "output_type": "execute_result"
        }
      ],
      "source": [
        "pred "
      ]
    },
    {
      "cell_type": "code",
      "execution_count": null,
      "metadata": {
        "id": "E4sYJdb6Y27A"
      },
      "outputs": [],
      "source": []
    },
    {
      "cell_type": "code",
      "execution_count": null,
      "metadata": {
        "id": "kBBTt8IrZrPM"
      },
      "outputs": [],
      "source": []
    },
    {
      "cell_type": "code",
      "execution_count": null,
      "metadata": {
        "id": "PEIa9ipQZrLl"
      },
      "outputs": [],
      "source": []
    },
    {
      "cell_type": "code",
      "execution_count": null,
      "metadata": {
        "id": "eUvBR7mGZrJN"
      },
      "outputs": [],
      "source": [
        "model1 = load_model(\"Testing_keras.h5\")"
      ]
    },
    {
      "cell_type": "code",
      "execution_count": null,
      "metadata": {
        "colab": {
          "base_uri": "https://localhost:8080/"
        },
        "id": "VQIf3cyyZsXR",
        "outputId": "b5c93ee3-fb5d-47b9-8466-afc6589833fb"
      },
      "outputs": [
        {
          "data": {
            "text/plain": [
              "array([[9.8126847e-01, 1.5896320e-02, 1.5241159e-04, 2.6827969e-03]],\n",
              "      dtype=float32)"
            ]
          },
          "execution_count": 31,
          "metadata": {},
          "output_type": "execute_result"
        }
      ],
      "source": [
        "model1.predict(valx[:90])"
      ]
    },
    {
      "cell_type": "code",
      "execution_count": null,
      "metadata": {
        "colab": {
          "base_uri": "https://localhost:8080/"
        },
        "id": "fp-tyjZ4Zx2X",
        "outputId": "480d8330-a0ce-44fa-f482-4d42f7b6ebe7"
      },
      "outputs": [
        {
          "name": "stdout",
          "output_type": "stream",
          "text": [
            "Looking in indexes: https://pypi.org/simple, https://us-python.pkg.dev/colab-wheels/public/simple/\n",
            "Collecting efficientnet\n",
            "  Downloading efficientnet-1.1.1-py3-none-any.whl (18 kB)\n",
            "Collecting keras-applications<=1.0.8,>=1.0.7\n",
            "  Downloading Keras_Applications-1.0.8-py3-none-any.whl (50 kB)\n",
            "\u001b[K     |████████████████████████████████| 50 kB 4.6 MB/s \n",
            "\u001b[?25hRequirement already satisfied: scikit-image in /usr/local/lib/python3.7/dist-packages (from efficientnet) (0.18.3)\n",
            "Requirement already satisfied: h5py in /usr/local/lib/python3.7/dist-packages (from keras-applications<=1.0.8,>=1.0.7->efficientnet) (3.1.0)\n",
            "Requirement already satisfied: numpy>=1.9.1 in /usr/local/lib/python3.7/dist-packages (from keras-applications<=1.0.8,>=1.0.7->efficientnet) (1.21.6)\n",
            "Requirement already satisfied: cached-property in /usr/local/lib/python3.7/dist-packages (from h5py->keras-applications<=1.0.8,>=1.0.7->efficientnet) (1.5.2)\n",
            "Requirement already satisfied: imageio>=2.3.0 in /usr/local/lib/python3.7/dist-packages (from scikit-image->efficientnet) (2.4.1)\n",
            "Requirement already satisfied: networkx>=2.0 in /usr/local/lib/python3.7/dist-packages (from scikit-image->efficientnet) (2.6.3)\n",
            "Requirement already satisfied: scipy>=1.0.1 in /usr/local/lib/python3.7/dist-packages (from scikit-image->efficientnet) (1.4.1)\n",
            "Requirement already satisfied: pillow!=7.1.0,!=7.1.1,>=4.3.0 in /usr/local/lib/python3.7/dist-packages (from scikit-image->efficientnet) (7.1.2)\n",
            "Requirement already satisfied: matplotlib!=3.0.0,>=2.0.0 in /usr/local/lib/python3.7/dist-packages (from scikit-image->efficientnet) (3.2.2)\n",
            "Requirement already satisfied: PyWavelets>=1.1.1 in /usr/local/lib/python3.7/dist-packages (from scikit-image->efficientnet) (1.3.0)\n",
            "Requirement already satisfied: tifffile>=2019.7.26 in /usr/local/lib/python3.7/dist-packages (from scikit-image->efficientnet) (2021.11.2)\n",
            "Requirement already satisfied: kiwisolver>=1.0.1 in /usr/local/lib/python3.7/dist-packages (from matplotlib!=3.0.0,>=2.0.0->scikit-image->efficientnet) (1.4.2)\n",
            "Requirement already satisfied: python-dateutil>=2.1 in /usr/local/lib/python3.7/dist-packages (from matplotlib!=3.0.0,>=2.0.0->scikit-image->efficientnet) (2.8.2)\n",
            "Requirement already satisfied: cycler>=0.10 in /usr/local/lib/python3.7/dist-packages (from matplotlib!=3.0.0,>=2.0.0->scikit-image->efficientnet) (0.11.0)\n",
            "Requirement already satisfied: pyparsing!=2.0.4,!=2.1.2,!=2.1.6,>=2.0.1 in /usr/local/lib/python3.7/dist-packages (from matplotlib!=3.0.0,>=2.0.0->scikit-image->efficientnet) (3.0.9)\n",
            "Requirement already satisfied: typing-extensions in /usr/local/lib/python3.7/dist-packages (from kiwisolver>=1.0.1->matplotlib!=3.0.0,>=2.0.0->scikit-image->efficientnet) (4.2.0)\n",
            "Requirement already satisfied: six>=1.5 in /usr/local/lib/python3.7/dist-packages (from python-dateutil>=2.1->matplotlib!=3.0.0,>=2.0.0->scikit-image->efficientnet) (1.15.0)\n",
            "Installing collected packages: keras-applications, efficientnet\n",
            "Successfully installed efficientnet-1.1.1 keras-applications-1.0.8\n"
          ]
        }
      ],
      "source": [
        "!pip install -U efficientnet"
      ]
    },
    {
      "cell_type": "code",
      "execution_count": null,
      "metadata": {
        "id": "Aco6iH3hpTaX"
      },
      "outputs": [],
      "source": [
        "import efficientnet.keras as efn"
      ]
    },
    {
      "cell_type": "code",
      "execution_count": null,
      "metadata": {
        "id": "Tpgq36Hqpn7x"
      },
      "outputs": [],
      "source": [
        "from keras import ImageDataGenerator"
      ]
    },
    {
      "cell_type": "code",
      "execution_count": null,
      "metadata": {
        "id": "h-RBlfrSqCU1"
      },
      "outputs": [],
      "source": [
        "train_dir = "
      ]
    },
    {
      "cell_type": "code",
      "execution_count": null,
      "metadata": {
        "id": "dzDuvtPvpWa6"
      },
      "outputs": [],
      "source": [
        "# Add our data-augmentation parameters to ImageDataGenerator\n",
        "\n",
        "train_datagen = ImageDataGenerator(rescale = 1./255., rotation_range = 40, width_shift_range = 0.2, height_shift_range = 0.2, shear_range = 0.2, zoom_range = 0.2, horizontal_flip = True)\n",
        "\n",
        "test_datagen = ImageDataGenerator(rescale = 1.0/255.)\n",
        "\n",
        "train_generator = train_datagen.flow_from_directory(train_dir, batch_size = 20, class_mode = 'binary', target_size = (224, 224))\n",
        "\n",
        "validation_generator = test_datagen.flow_from_directory( validation_dir, batch_size = 20, class_mode = 'binary', target_size = (224, 224))"
      ]
    },
    {
      "cell_type": "code",
      "execution_count": null,
      "metadata": {
        "id": "4gkByQsbp27L"
      },
      "outputs": [],
      "source": [
        "base_model = efn.EfficientNetB0(input_shape = (224, 224, 3), include_top = False, weights = 'imagenet')"
      ]
    }
  ],
  "metadata": {
    "accelerator": "GPU",
    "colab": {
      "collapsed_sections": [],
      "name": "keras_testing_recognition.ipynb",
      "provenance": []
    },
    "interpreter": {
      "hash": "21e45cb28ae646a8bd85c3fe9cc69c25cf506fbf4e96675ab122a8066f7d6c82"
    },
    "kernelspec": {
      "display_name": "Python 3.10.2 64-bit",
      "language": "python",
      "name": "python3"
    },
    "language_info": {
      "codemirror_mode": {
        "name": "ipython",
        "version": 3
      },
      "file_extension": ".py",
      "mimetype": "text/x-python",
      "name": "python",
      "nbconvert_exporter": "python",
      "pygments_lexer": "ipython3",
      "version": "3.10.2"
    }
  },
  "nbformat": 4,
  "nbformat_minor": 0
}
